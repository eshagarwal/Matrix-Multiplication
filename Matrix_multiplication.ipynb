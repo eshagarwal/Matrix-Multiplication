{
 "cells": [
  {
   "cell_type": "markdown",
   "metadata": {},
   "source": [
    "# Matrix Multiplication "
   ]
  },
  {
   "cell_type": "code",
   "execution_count": 2,
   "metadata": {},
   "outputs": [],
   "source": [
    "import numpy as np"
   ]
  },
  {
   "cell_type": "code",
   "execution_count": 3,
   "metadata": {},
   "outputs": [
    {
     "name": "stdout",
     "output_type": "stream",
     "text": [
      "[[ 11.   17.   23.    9. ]\n",
      " [-11.  -17.  -23.   -9. ]\n",
      " [  1.1   1.7   2.3   0.9]]\n"
     ]
    }
   ],
   "source": [
    "A = np.array([[1, -1, 1],\n",
    "              [2, -2, 0.2]])    # Double square brackets indicate it is a matrix\n",
    "                                # This is a 2 x 3 matrix (2 rows and 3 columns)\n",
    "\n",
    "AT = np.array([[1, 2],\n",
    "               [-1, -2],\n",
    "               [0.1, 0.2]])     # This is a 3 x 2 matrix (3 rows and 2 columns)\n",
    "\n",
    "W = np.array([[3, 5, 7, 9],\n",
    "              [4, 6, 8, 0]])    # This is a 2 x 4 matrix (2 rows and 4 columns)\n",
    "\n",
    "Z = np.matmul(AT, W)\n",
    "\n",
    "result = Z\n",
    "print(result)"
   ]
  }
 ],
 "metadata": {
  "kernelspec": {
   "display_name": "Python 3",
   "language": "python",
   "name": "python3"
  },
  "language_info": {
   "codemirror_mode": {
    "name": "ipython",
    "version": 3
   },
   "file_extension": ".py",
   "mimetype": "text/x-python",
   "name": "python",
   "nbconvert_exporter": "python",
   "pygments_lexer": "ipython3",
   "version": "3.10.0"
  }
 },
 "nbformat": 4,
 "nbformat_minor": 2
}
